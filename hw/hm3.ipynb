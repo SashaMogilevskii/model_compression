{
 "nbformat": 4,
 "nbformat_minor": 0,
 "metadata": {
  "colab": {
   "provenance": [],
   "gpuType": "T4"
  },
  "kernelspec": {
   "name": "python3",
   "language": "python",
   "display_name": "Python 3 (ipykernel)"
  },
  "language_info": {
   "name": "python"
  },
  "accelerator": "GPU"
 },
 "cells": [
  {
   "cell_type": "code",
   "source": [
    "!pip install -q tensorflow-model-optimization pyyaml loguru model-profiler"
   ],
   "metadata": {
    "id": "UdovRxkWT-bu",
    "colab": {
     "base_uri": "https://localhost:8080/"
    },
    "outputId": "b1e3f8aa-77d5-4453-dcd4-d9d105f6b826"
   },
   "execution_count": 1,
   "outputs": [
    {
     "output_type": "stream",
     "name": "stdout",
     "text": [
      "\u001B[?25l     \u001B[90m━━━━━━━━━━━━━━━━━━━━━━━━━━━━━━━━━━━━━━━━\u001B[0m \u001B[32m0.0/241.2 kB\u001B[0m \u001B[31m?\u001B[0m eta \u001B[36m-:--:--\u001B[0m\r\u001B[2K     \u001B[91m━━━━━\u001B[0m\u001B[90m╺\u001B[0m\u001B[90m━━━━━━━━━━━━━━━━━━━━━━━━━━━━━━━━━━\u001B[0m \u001B[32m30.7/241.2 kB\u001B[0m \u001B[31m660.3 kB/s\u001B[0m eta \u001B[36m0:00:01\u001B[0m\r\u001B[2K     \u001B[91m━━━━━━━━━━━━━━━━━━━━━━━━━━━━━━━━━━━━━\u001B[0m\u001B[90m╺\u001B[0m\u001B[90m━━\u001B[0m \u001B[32m225.3/241.2 kB\u001B[0m \u001B[31m3.2 MB/s\u001B[0m eta \u001B[36m0:00:01\u001B[0m\r\u001B[2K     \u001B[90m━━━━━━━━━━━━━━━━━━━━━━━━━━━━━━━━━━━━━━━━\u001B[0m \u001B[32m241.2/241.2 kB\u001B[0m \u001B[31m2.9 MB/s\u001B[0m eta \u001B[36m0:00:00\u001B[0m\n",
      "\u001B[?25h\u001B[?25l     \u001B[90m━━━━━━━━━━━━━━━━━━━━━━━━━━━━━━━━━━━━━━━━\u001B[0m \u001B[32m0.0/62.5 kB\u001B[0m \u001B[31m?\u001B[0m eta \u001B[36m-:--:--\u001B[0m\r\u001B[2K     \u001B[90m━━━━━━━━━━━━━━━━━━━━━━━━━━━━━━━━━━━━━━━━\u001B[0m \u001B[32m62.5/62.5 kB\u001B[0m \u001B[31m7.0 MB/s\u001B[0m eta \u001B[36m0:00:00\u001B[0m\n",
      "\u001B[?25h"
     ]
    }
   ]
  },
  {
   "cell_type": "code",
   "source": [
    "!git clone -b dev https://github.com/SashaMogilevskii/model_compression"
   ],
   "metadata": {
    "colab": {
     "base_uri": "https://localhost:8080/"
    },
    "id": "Qqe1OBgUMv-B",
    "outputId": "f656aa96-c0a2-4bb4-ae49-48a3d243a1db"
   },
   "execution_count": 2,
   "outputs": [
    {
     "output_type": "stream",
     "name": "stdout",
     "text": [
      "Cloning into 'model_compression'...\n",
      "remote: Enumerating objects: 134, done.\u001B[K\n",
      "remote: Counting objects: 100% (16/16), done.\u001B[K\n",
      "remote: Compressing objects: 100% (14/14), done.\u001B[K\n",
      "remote: Total 134 (delta 2), reused 13 (delta 1), pack-reused 118\u001B[K\n",
      "Receiving objects: 100% (134/134), 78.37 MiB | 14.43 MiB/s, done.\n",
      "Resolving deltas: 100% (51/51), done.\n",
      "Updating files: 100% (27/27), done.\n"
     ]
    }
   ]
  },
  {
   "cell_type": "code",
   "source": [
    "%cd model_compression/data"
   ],
   "metadata": {
    "colab": {
     "base_uri": "https://localhost:8080/"
    },
    "id": "RruEaGq5MwQe",
    "outputId": "cba6a75b-0876-4824-b07b-a2a0f1b2b77e"
   },
   "execution_count": 3,
   "outputs": [
    {
     "output_type": "stream",
     "name": "stdout",
     "text": [
      "/content/model_compression/data\n"
     ]
    }
   ]
  },
  {
   "cell_type": "code",
   "source": [
    "!gdown --id 18gCWw8IkqbFr9X0TCBM5LCpsU11Ga6tc\n",
    "!unrar x -y data.rar"
   ],
   "metadata": {
    "id": "bLtmMiSwNR9t"
   },
   "execution_count": null,
   "outputs": []
  },
  {
   "cell_type": "code",
   "source": [
    "%cd ../hw"
   ],
   "metadata": {
    "colab": {
     "base_uri": "https://localhost:8080/"
    },
    "id": "0OjzoAtiNdM9",
    "outputId": "5bef8596-fdae-49a6-af83-6a93f88749a7"
   },
   "execution_count": 5,
   "outputs": [
    {
     "output_type": "stream",
     "name": "stdout",
     "text": [
      "/content/model_compression/hw\n"
     ]
    }
   ]
  },
  {
   "cell_type": "code",
   "source": [
    "import sys\n",
    "sys.path.append(\"../\")"
   ],
   "metadata": {
    "id": "58DHnpFRUv3O"
   },
   "execution_count": 6,
   "outputs": []
  },
  {
   "cell_type": "code",
   "execution_count": 1,
   "metadata": {
    "id": "zmE-9Q4UMq63",
    "ExecuteTime": {
     "end_time": "2023-10-23T23:47:09.505449Z",
     "start_time": "2023-10-23T23:46:52.601070Z"
    }
   },
   "outputs": [],
   "source": [
    "from box import Box\n",
    "import time\n",
    "import yaml\n",
    "\n",
    "from model_profiler import model_profiler\n",
    "import pandas as pd\n",
    "import numpy as np\n",
    "import tensorflow as tf\n",
    "from torch.utils.data import DataLoader\n",
    "\n",
    "from scr.utils.create_dataset import BirdDataset\n",
    "from scr.utils.metrics import validation_epoch_end\n",
    "\n"
   ]
  },
  {
   "cell_type": "code",
   "source": [
    "with open(\"../scr/config_tf.yaml\", \"r\") as f:\n",
    "    config = yaml.load(f, Loader=yaml.SafeLoader)\n",
    "    config = Box(config)"
   ],
   "metadata": {
    "id": "FkK_B108TD5z",
    "ExecuteTime": {
     "end_time": "2023-10-23T23:47:10.845350Z",
     "start_time": "2023-10-23T23:47:10.836798Z"
    }
   },
   "execution_count": 2,
   "outputs": []
  },
  {
   "cell_type": "code",
   "source": [
    "df = pd.read_csv(\"../data/data.csv\")\n",
    "df_test = df[df.fold == 3].sample(n=100, random_state=42).reset_index(drop=True)\n",
    "dataset_test = BirdDataset(\n",
    "    df=df_test,\n",
    "    path_to_folder_with_audio=config.path_to_files_base,\n",
    "    tensorflow=True\n",
    ")\n",
    "valid_loader = DataLoader(\n",
    "    dataset_test,\n",
    "    batch_size=4,\n",
    "    num_workers=config.num_workers\n",
    ")\n"
   ],
   "metadata": {
    "id": "MyO82MSwSjjU",
    "ExecuteTime": {
     "end_time": "2023-10-23T23:47:12.382966Z",
     "start_time": "2023-10-23T23:47:12.367540Z"
    }
   },
   "execution_count": 3,
   "outputs": []
  },
  {
   "cell_type": "code",
   "source": [
    "def get_metric_score(model):\n",
    "    predicted_labels_list = None\n",
    "    true_labels_list = None\n",
    "    metric = validation_epoch_end\n",
    "    start_time = time.time()\n",
    "\n",
    "    for batch in valid_loader:\n",
    "        X_batch = batch[0]\n",
    "        y_b = batch[1]\n",
    "\n",
    "        #convert to tf\n",
    "        X_batch = tf.convert_to_tensor(X_batch.numpy(), dtype=tf.float32)\n",
    "        y_batch = tf.convert_to_tensor(y_b.numpy(), dtype=tf.float32)\n",
    "\n",
    "        logits = model.predict(X_batch)\n",
    "        if predicted_labels_list is None:\n",
    "                predicted_labels_list = logits\n",
    "                true_labels_list = y_b\n",
    "        else:\n",
    "            predicted_labels_list = np.concatenate([predicted_labels_list, logits], axis=0)\n",
    "            true_labels_list = np.concatenate([true_labels_list, y_b], axis=0)\n",
    "\n",
    "    end_time = time.time()\n",
    "\n",
    "\n",
    "    all_predicted_labels = np.vstack(predicted_labels_list)\n",
    "    all_true_labels = np.vstack(true_labels_list)\n",
    "    all_true_labels = np.squeeze(all_true_labels)\n",
    "    mask = (all_true_labels > 0) & (all_true_labels < 1)\n",
    "    all_true_labels[mask] = 0\n",
    "    avg_metric = metric(all_true_labels, all_predicted_labels)\n",
    "    t = end_time - start_time\n",
    "\n",
    "\n",
    "    print(\"Наши метрики на нашей базовой модели:\")\n",
    "    print(f\"Время работы модели на всем батче {t:.<2g} сек.\")\n",
    "    print(f\"Время работы модели на одном сэмпле (AVG) {round(t/ len(dataset_test), 3) } сек.\")\n",
    "    print(\"Метрики качества:\")\n",
    "    for m in avg_metric:\n",
    "        print(f\"metric {m} : {avg_metric[m]:.<5g}\")"
   ],
   "metadata": {
    "id": "dzcxWyk_h92L",
    "ExecuteTime": {
     "end_time": "2023-10-23T23:47:17.038908Z",
     "start_time": "2023-10-23T23:47:17.035616Z"
    }
   },
   "execution_count": 4,
   "outputs": []
  },
  {
   "cell_type": "code",
   "source": [
    "model = tf.keras.applications.efficientnet.EfficientNetB0(\n",
    "    weights=None,\n",
    "    include_top=False,\n",
    "    input_shape=(626, 256, 3),\n",
    "    drop_connect_rate=0.4,\n",
    ")\n",
    "\n",
    "input_shape = (626, 256, 3)\n",
    "\n",
    "model = tf.keras.Sequential([\n",
    "    tf.keras.Input(shape=input_shape),\n",
    "    # *preprocessing_layers,\n",
    "    model,\n",
    "    tf.keras.layers.GlobalAveragePooling2D(),\n",
    "    tf.keras.layers.Flatten(),\n",
    "    tf.keras.layers.Dense(264, activation='sigmoid')])\n",
    "\n",
    "existing_model = tf.keras.models.load_model('../models/model_tf')  # Замените на фактический путь к вашей модели\n",
    "model.set_weights(existing_model.get_weights())\n"
   ],
   "metadata": {
    "id": "-dphRS1Oq3ht",
    "ExecuteTime": {
     "end_time": "2023-10-23T23:47:23.672227Z",
     "start_time": "2023-10-23T23:47:17.939908Z"
    }
   },
   "execution_count": 5,
   "outputs": [
    {
     "name": "stderr",
     "output_type": "stream",
     "text": [
      "WARNING:absl:At this time, the v2.11+ optimizer `tf.keras.optimizers.RestoredOptimizer` runs slowly on M1/M2 Macs, please use the legacy Keras optimizer instead, located at `tf.keras.optimizers.legacy.RestoredOptimizer`.\n",
      "WARNING:absl:At this time, the v2.11+ optimizer `tf.keras.optimizers.Adam` runs slowly on M1/M2 Macs, please use the legacy Keras optimizer instead, located at `tf.keras.optimizers.legacy.Adam`.\n"
     ]
    }
   ]
  },
  {
   "cell_type": "code",
   "source": [
    "def get_model_size(model):\n",
    "    param_size = 0\n",
    "    for w in model.weights:\n",
    "        param_size += np.prod(w.shape) * w.dtype.size\n",
    "    size_all_mb = param_size / 1024**2\n",
    "    print('model size: {:.3f}MB'.format(size_all_mb))\n",
    "\n",
    "def count_zero_weights(model):\n",
    "    num_zero_weights = 0\n",
    "    total_weights = 0\n",
    "\n",
    "    for w in model.weights:\n",
    "        num_zero_weights += np.sum(w.numpy() == 0)\n",
    "        total_weights += np.prod(w.shape)\n",
    "\n",
    "    sparsity = num_zero_weights / total_weights\n",
    "    print(f\"Разреженность весов: {sparsity * 100:.2f}%\")\n",
    "    return sparsity"
   ],
   "metadata": {
    "id": "6MR91puiVoBW",
    "ExecuteTime": {
     "end_time": "2023-10-23T23:47:30.009210Z",
     "start_time": "2023-10-23T23:47:30.001614Z"
    }
   },
   "execution_count": 6,
   "outputs": []
  },
  {
   "cell_type": "code",
   "source": [
    "import tensorflow_model_optimization as tfmot\n",
    "\n",
    "cluster_weights = tfmot.clustering.keras.cluster_weights\n",
    "CentroidInitialization = tfmot.clustering.keras.CentroidInitialization\n",
    "\n",
    "clustering_params = {\n",
    "  'number_of_clusters': 4,\n",
    "  'cluster_centroids_init': CentroidInitialization.DENSITY_BASED\n",
    "}\n",
    "\n",
    "# Cluster a whole model\n",
    "clustered_model = cluster_weights(model, **clustering_params)\n",
    "\n",
    "# Use smaller learning rate for fine-tuning clustered model\n",
    "opt = tf.keras.optimizers.Adam(learning_rate=1e-5)\n",
    "\n",
    "clustered_model.compile(\n",
    "  loss=tf.keras.losses.SparseCategoricalCrossentropy(from_logits=True),\n",
    "  optimizer=opt,\n",
    "  metrics=['accuracy'])\n",
    "\n",
    "clustered_model.summary()"
   ],
   "metadata": {
    "colab": {
     "base_uri": "https://localhost:8080/"
    },
    "id": "LgWfb3t5Opv9",
    "outputId": "b06fa0ff-98a0-4693-d2f5-c7ffce3c284b",
    "ExecuteTime": {
     "end_time": "2023-10-23T23:47:35.063535Z",
     "start_time": "2023-10-23T23:47:30.701917Z"
    }
   },
   "execution_count": 7,
   "outputs": [
    {
     "name": "stderr",
     "output_type": "stream",
     "text": [
      "WARNING:absl:At this time, the v2.11+ optimizer `tf.keras.optimizers.Adam` runs slowly on M1/M2 Macs, please use the legacy Keras optimizer instead, located at `tf.keras.optimizers.legacy.Adam`.\n"
     ]
    },
    {
     "name": "stdout",
     "output_type": "stream",
     "text": [
      "Model: \"sequential\"\n",
      "_________________________________________________________________\n",
      " Layer (type)                Output Shape              Param #   \n",
      "=================================================================\n",
      " efficientnetb0 (Functional  (None, 20, 8, 1280)       7824007   \n",
      " )                                                               \n",
      "                                                                 \n",
      " cluster_global_average_poo  (None, 1280)              0         \n",
      " ling2d (ClusterWeights)                                         \n",
      "                                                                 \n",
      " cluster_flatten (ClusterWe  (None, 1280)              0         \n",
      " ights)                                                          \n",
      "                                                                 \n",
      " cluster_dense (ClusterWeig  (None, 264)               676108    \n",
      " hts)                                                            \n",
      "                                                                 \n",
      "=================================================================\n",
      "Total params: 8500115 (48.11 MB)\n",
      "Trainable params: 4345996 (16.58 MB)\n",
      "Non-trainable params: 4154119 (31.53 MB)\n",
      "_________________________________________________________________\n"
     ]
    }
   ]
  },
  {
   "cell_type": "code",
   "source": [
    "model.summary()"
   ],
   "metadata": {
    "colab": {
     "base_uri": "https://localhost:8080/"
    },
    "id": "cCDLUo-YQW9V",
    "outputId": "c210e56f-1933-469d-91e6-d00af18a7f94",
    "ExecuteTime": {
     "end_time": "2023-10-23T23:47:35.064281Z",
     "start_time": "2023-10-23T23:47:34.990534Z"
    }
   },
   "execution_count": 8,
   "outputs": [
    {
     "name": "stdout",
     "output_type": "stream",
     "text": [
      "Model: \"sequential\"\n",
      "_________________________________________________________________\n",
      " Layer (type)                Output Shape              Param #   \n",
      "=================================================================\n",
      " efficientnetb0 (Functional  (None, 20, 8, 1280)       275395    \n",
      " )                                                               \n",
      "                                                                 \n",
      " global_average_pooling2d (  (None, 1280)              0         \n",
      " GlobalAveragePooling2D)                                         \n",
      "                                                                 \n",
      " flatten (Flatten)           (None, 1280)              0         \n",
      "                                                                 \n",
      " dense (Dense)               (None, 264)               264       \n",
      "                                                                 \n",
      "=================================================================\n",
      "Total params: 275659 (1.05 MB)\n",
      "Trainable params: 233636 (912.64 KB)\n",
      "Non-trainable params: 42023 (164.16 KB)\n",
      "_________________________________________________________________\n"
     ]
    }
   ]
  },
  {
   "cell_type": "markdown",
   "source": [
    "# Кластеризованная Модель"
   ],
   "metadata": {
    "collapsed": false
   }
  },
  {
   "cell_type": "code",
   "source": [
    "clustered_model_file = 'clustered_model_v1.tf'\n",
    "\n",
    "clustered_model2 = tfmot.clustering.keras.strip_clustering(clustered_model)\n",
    "clustered_model2.save(clustered_model_file)\n",
    "loaded_model = tf.keras.models.load_model(clustered_model_file)"
   ],
   "metadata": {
    "id": "70znxbE1X8vC",
    "colab": {
     "base_uri": "https://localhost:8080/"
    },
    "outputId": "11af5918-ecde-488d-ab9a-39a36052db78",
    "ExecuteTime": {
     "end_time": "2023-10-23T23:47:51.066902Z",
     "start_time": "2023-10-23T23:47:35.006951Z"
    }
   },
   "execution_count": 9,
   "outputs": [
    {
     "name": "stdout",
     "output_type": "stream",
     "text": [
      "WARNING:tensorflow:Compiled the loaded model, but the compiled metrics have yet to be built. `model.compile_metrics` will be empty until you train or evaluate the model.\n"
     ]
    },
    {
     "name": "stderr",
     "output_type": "stream",
     "text": [
      "WARNING:tensorflow:Compiled the loaded model, but the compiled metrics have yet to be built. `model.compile_metrics` will be empty until you train or evaluate the model.\n"
     ]
    },
    {
     "name": "stdout",
     "output_type": "stream",
     "text": [
      "INFO:tensorflow:Assets written to: clustered_model_v1.tf/assets\n"
     ]
    },
    {
     "name": "stderr",
     "output_type": "stream",
     "text": [
      "INFO:tensorflow:Assets written to: clustered_model_v1.tf/assets\n"
     ]
    },
    {
     "name": "stdout",
     "output_type": "stream",
     "text": [
      "WARNING:tensorflow:No training configuration found in save file, so the model was *not* compiled. Compile it manually.\n"
     ]
    },
    {
     "name": "stderr",
     "output_type": "stream",
     "text": [
      "WARNING:tensorflow:No training configuration found in save file, so the model was *not* compiled. Compile it manually.\n"
     ]
    }
   ]
  },
  {
   "cell_type": "code",
   "source": [
    "print(\"Характеристики кластеризованной модели\")\n",
    "print(model_profiler(loaded_model, 4))"
   ],
   "metadata": {
    "id": "oQKZArLdY98G",
    "colab": {
     "base_uri": "https://localhost:8080/"
    },
    "outputId": "3c2f86d8-ae76-4438-e6aa-7817b4a005fb",
    "ExecuteTime": {
     "end_time": "2023-10-23T23:47:51.236684Z",
     "start_time": "2023-10-23T23:47:51.062312Z"
    }
   },
   "execution_count": 10,
   "outputs": [
    {
     "name": "stdout",
     "output_type": "stream",
     "text": [
      "Характеристики кластеризованной модели\n",
      "| Model Profile                    | Value         | Unit    |\n",
      "|----------------------------------|---------------|---------|\n",
      "| Selected GPUs                    | None Detected | GPU IDs |\n",
      "| No. of FLOPs                     | 0.0           | BFLOPs  |\n",
      "| GPU Memory Requirement           | 0.0072        | GB      |\n",
      "| Model Parameters                 | 4.3878        | Million |\n",
      "| Memory Required by Model Weights | 16.738        | MB      |\n"
     ]
    }
   ]
  },
  {
   "cell_type": "code",
   "source": [
    "print(\"Характеристики кластеризованной модели\")\n",
    "print(model_profiler(clustered_model, 4))"
   ],
   "metadata": {
    "colab": {
     "base_uri": "https://localhost:8080/"
    },
    "id": "lx_M7wSP533h",
    "outputId": "24950006-d0e9-4ff1-f259-187c877b4954",
    "ExecuteTime": {
     "end_time": "2023-10-23T23:47:51.513753Z",
     "start_time": "2023-10-23T23:47:51.309311Z"
    }
   },
   "execution_count": 11,
   "outputs": [
    {
     "name": "stdout",
     "output_type": "stream",
     "text": [
      "Характеристики кластеризованной модели\n",
      "| Model Profile                    | Value         | Unit    |\n",
      "|----------------------------------|---------------|---------|\n",
      "| Selected GPUs                    | None Detected | GPU IDs |\n",
      "| No. of FLOPs                     | 0.0           | BFLOPs  |\n",
      "| GPU Memory Requirement           | 0.011         | GB      |\n",
      "| Model Parameters                 | 8.5001        | Million |\n",
      "| Memory Required by Model Weights | 32.4254       | MB      |\n"
     ]
    }
   ]
  },
  {
   "cell_type": "code",
   "source": [
    "get_model_size(loaded_model)"
   ],
   "metadata": {
    "id": "Bkb_ZjSmbTWX",
    "colab": {
     "base_uri": "https://localhost:8080/"
    },
    "outputId": "5998b0f4-4434-4818-95b4-ccea0254cfb3",
    "ExecuteTime": {
     "end_time": "2023-10-23T23:47:51.514123Z",
     "start_time": "2023-10-23T23:47:51.505873Z"
    }
   },
   "execution_count": 12,
   "outputs": [
    {
     "name": "stdout",
     "output_type": "stream",
     "text": [
      "model size: 16.738MB\n"
     ]
    }
   ]
  },
  {
   "cell_type": "code",
   "source": [
    "get_model_size(clustered_model)"
   ],
   "metadata": {
    "colab": {
     "base_uri": "https://localhost:8080/"
    },
    "id": "nuv2Vamh5_qX",
    "outputId": "d570f343-5a46-4752-c7e1-88621e49959f",
    "ExecuteTime": {
     "end_time": "2023-10-23T23:47:51.514211Z",
     "start_time": "2023-10-23T23:47:51.511473Z"
    }
   },
   "execution_count": 13,
   "outputs": [
    {
     "name": "stdout",
     "output_type": "stream",
     "text": [
      "model size: 48.112MB\n"
     ]
    }
   ]
  },
  {
   "cell_type": "code",
   "source": [
    "count_zero_weights(loaded_model)"
   ],
   "metadata": {
    "colab": {
     "base_uri": "https://localhost:8080/"
    },
    "id": "bL_zqaFO1eii",
    "outputId": "b49c7c72-520c-4e0d-ee03-5ba2b05a8175",
    "ExecuteTime": {
     "end_time": "2023-10-23T23:47:51.554622Z",
     "start_time": "2023-10-23T23:47:51.518294Z"
    }
   },
   "execution_count": 14,
   "outputs": [
    {
     "name": "stdout",
     "output_type": "stream",
     "text": [
      "Разреженность весов: 0.00%\n"
     ]
    },
    {
     "data": {
      "text/plain": "2.279069820443484e-07"
     },
     "execution_count": 14,
     "metadata": {},
     "output_type": "execute_result"
    }
   ]
  },
  {
   "cell_type": "code",
   "source": [
    "count_zero_weights(clustered_model)"
   ],
   "metadata": {
    "colab": {
     "base_uri": "https://localhost:8080/"
    },
    "id": "FJ4aHImQ6IYv",
    "outputId": "cb64682b-1dee-4581-cd4f-9140563b9f52",
    "ExecuteTime": {
     "end_time": "2023-10-23T23:47:51.690554Z",
     "start_time": "2023-10-23T23:47:51.546493Z"
    }
   },
   "execution_count": 15,
   "outputs": [
    {
     "name": "stdout",
     "output_type": "stream",
     "text": [
      "Разреженность весов: 5.18%\n"
     ]
    },
    {
     "data": {
      "text/plain": "0.051789652257645924"
     },
     "execution_count": 15,
     "metadata": {},
     "output_type": "execute_result"
    }
   ]
  },
  {
   "cell_type": "code",
   "source": [
    "get_metric_score(clustered_model)"
   ],
   "metadata": {
    "colab": {
     "base_uri": "https://localhost:8080/"
    },
    "id": "PPb-CCdT6SpH",
    "outputId": "aaf8b7a6-f6ae-47d9-815b-5be8e4fffc54",
    "ExecuteTime": {
     "end_time": "2023-10-23T23:48:10.063384Z",
     "start_time": "2023-10-23T23:47:51.612095Z"
    }
   },
   "execution_count": 16,
   "outputs": [
    {
     "name": "stdout",
     "output_type": "stream",
     "text": [
      "1/1 [==============================] - 1s 1s/step\n",
      "1/1 [==============================] - 0s 291ms/step\n",
      "1/1 [==============================] - 0s 292ms/step\n",
      "1/1 [==============================] - 0s 330ms/step\n",
      "1/1 [==============================] - 0s 346ms/step\n",
      "1/1 [==============================] - 0s 293ms/step\n",
      "1/1 [==============================] - 0s 288ms/step\n",
      "1/1 [==============================] - 0s 291ms/step\n",
      "1/1 [==============================] - 0s 303ms/step\n",
      "1/1 [==============================] - 0s 295ms/step\n",
      "1/1 [==============================] - 0s 298ms/step\n",
      "1/1 [==============================] - 0s 295ms/step\n",
      "1/1 [==============================] - 0s 298ms/step\n",
      "1/1 [==============================] - 0s 291ms/step\n",
      "1/1 [==============================] - 0s 333ms/step\n",
      "1/1 [==============================] - 1s 527ms/step\n",
      "1/1 [==============================] - 0s 395ms/step\n",
      "1/1 [==============================] - 0s 332ms/step\n",
      "1/1 [==============================] - 0s 393ms/step\n",
      "1/1 [==============================] - 0s 475ms/step\n",
      "1/1 [==============================] - 0s 317ms/step\n",
      "1/1 [==============================] - 0s 429ms/step\n",
      "1/1 [==============================] - 0s 334ms/step\n",
      "1/1 [==============================] - 0s 284ms/step\n",
      "1/1 [==============================] - 0s 291ms/step\n",
      "Наши метрики на нашей базовой модели:\n",
      "Время работы модели на всем батче 18.4046 сек.\n",
      "Время работы модели на одном сэмпле (AVG) 0.184 сек.\n",
      "Метрики качества:\n",
      "metric val_RMAP : 0.00378788\n"
     ]
    }
   ]
  },
  {
   "cell_type": "code",
   "source": [
    "get_metric_score(loaded_model)"
   ],
   "metadata": {
    "colab": {
     "base_uri": "https://localhost:8080/"
    },
    "id": "teIb82-w1ktm",
    "outputId": "4767b7ce-feff-49a7-ba8d-8f32aa485d16",
    "ExecuteTime": {
     "end_time": "2023-10-23T23:48:22.871364Z",
     "start_time": "2023-10-23T23:48:10.032854Z"
    }
   },
   "execution_count": 17,
   "outputs": [
    {
     "name": "stdout",
     "output_type": "stream",
     "text": [
      "1/1 [==============================] - 1s 684ms/step\n",
      "1/1 [==============================] - 0s 290ms/step\n",
      "1/1 [==============================] - 0s 280ms/step\n",
      "1/1 [==============================] - 0s 283ms/step\n",
      "1/1 [==============================] - 0s 283ms/step\n",
      "1/1 [==============================] - 0s 285ms/step\n",
      "1/1 [==============================] - 0s 263ms/step\n",
      "1/1 [==============================] - 0s 255ms/step\n",
      "1/1 [==============================] - 0s 297ms/step\n",
      "1/1 [==============================] - 0s 293ms/step\n",
      "1/1 [==============================] - 0s 293ms/step\n",
      "1/1 [==============================] - 0s 268ms/step\n",
      "1/1 [==============================] - 0s 293ms/step\n",
      "1/1 [==============================] - 0s 285ms/step\n",
      "1/1 [==============================] - 0s 292ms/step\n",
      "1/1 [==============================] - 0s 289ms/step\n",
      "1/1 [==============================] - 0s 320ms/step\n",
      "1/1 [==============================] - 0s 292ms/step\n",
      "1/1 [==============================] - 0s 259ms/step\n",
      "1/1 [==============================] - 0s 261ms/step\n",
      "1/1 [==============================] - 0s 274ms/step\n",
      "1/1 [==============================] - 0s 295ms/step\n",
      "1/1 [==============================] - 0s 308ms/step\n",
      "1/1 [==============================] - 0s 254ms/step\n",
      "1/1 [==============================] - 0s 274ms/step\n",
      "Наши метрики на нашей базовой модели:\n",
      "Время работы модели на всем батче 12.8316 сек.\n",
      "Время работы модели на одном сэмпле (AVG) 0.128 сек.\n",
      "Метрики качества:\n",
      "metric val_RMAP : 0.00378788\n"
     ]
    }
   ]
  },
  {
   "cell_type": "markdown",
   "source": [
    "# Исходная модель"
   ],
   "metadata": {
    "collapsed": false
   }
  },
  {
   "cell_type": "code",
   "execution_count": 143,
   "outputs": [
    {
     "output_type": "stream",
     "name": "stderr",
     "text": [
      "WARNING:tensorflow:Compiled the loaded model, but the compiled metrics have yet to be built. `model.compile_metrics` will be empty until you train or evaluate the model.\n",
      "WARNING:tensorflow:No training configuration found in save file, so the model was *not* compiled. Compile it manually.\n"
     ]
    }
   ],
   "source": [
    "model_file = 'model_v1.tf'\n",
    "\n",
    "model.save(model_file)\n",
    "\n",
    "base_loaded_model = tf.keras.models.load_model(model_file)"
   ],
   "metadata": {
    "collapsed": false
   }
  },
  {
   "cell_type": "code",
   "execution_count": 144,
   "outputs": [
    {
     "output_type": "stream",
     "name": "stdout",
     "text": [
      "Характеристики исходной модели\n",
      "| Model Profile                    | Value   | Unit    |\n",
      "|----------------------------------|---------|---------|\n",
      "| Selected GPUs                    | ['0']   | GPU IDs |\n",
      "| No. of FLOPs                     | 0.0     | BFLOPs  |\n",
      "| GPU Memory Requirement           | 0.0072  | GB      |\n",
      "| Model Parameters                 | 4.3878  | Million |\n",
      "| Memory Required by Model Weights | 16.738  | MB      |\n"
     ]
    }
   ],
   "source": [
    "print(\"Характеристики исходной модели\")\n",
    "print(model_profiler(base_loaded_model, 4))"
   ],
   "metadata": {
    "collapsed": false
   }
  },
  {
   "cell_type": "code",
   "execution_count": 145,
   "outputs": [
    {
     "output_type": "stream",
     "name": "stdout",
     "text": [
      "model size: 16.738MB\n"
     ]
    }
   ],
   "source": [
    "get_model_size(base_loaded_model)"
   ],
   "metadata": {
    "collapsed": false
   }
  },
  {
   "cell_type": "code",
   "execution_count": 146,
   "outputs": [
    {
     "output_type": "stream",
     "name": "stdout",
     "text": [
      "Разреженность весов: 0.00%\n"
     ]
    },
    {
     "output_type": "execute_result",
     "data": {
      "text/plain": [
       "2.279069820443484e-07"
      ]
     },
     "metadata": {},
     "execution_count": 146
    }
   ],
   "source": [
    "count_zero_weights(base_loaded_model)"
   ],
   "metadata": {
    "collapsed": false
   }
  },
  {
   "cell_type": "code",
   "execution_count": 147,
   "outputs": [
    {
     "output_type": "stream",
     "name": "stdout",
     "text": [
      "1/1 [==============================] - 2s 2s/step\n",
      "1/1 [==============================] - 0s 43ms/step\n",
      "1/1 [==============================] - 0s 43ms/step\n",
      "1/1 [==============================] - 0s 38ms/step\n",
      "1/1 [==============================] - 0s 36ms/step\n",
      "1/1 [==============================] - 0s 42ms/step\n",
      "1/1 [==============================] - 0s 41ms/step\n",
      "1/1 [==============================] - 0s 63ms/step\n",
      "1/1 [==============================] - 0s 40ms/step\n",
      "1/1 [==============================] - 0s 42ms/step\n",
      "1/1 [==============================] - 0s 43ms/step\n",
      "1/1 [==============================] - 0s 41ms/step\n",
      "1/1 [==============================] - 0s 40ms/step\n",
      "1/1 [==============================] - 0s 42ms/step\n",
      "1/1 [==============================] - 0s 41ms/step\n",
      "1/1 [==============================] - 0s 41ms/step\n",
      "1/1 [==============================] - 0s 55ms/step\n",
      "1/1 [==============================] - 0s 51ms/step\n",
      "1/1 [==============================] - 0s 60ms/step\n",
      "1/1 [==============================] - 0s 45ms/step\n",
      "1/1 [==============================] - 0s 44ms/step\n",
      "1/1 [==============================] - 0s 42ms/step\n",
      "1/1 [==============================] - 0s 47ms/step\n",
      "1/1 [==============================] - 0s 42ms/step\n",
      "1/1 [==============================] - 0s 42ms/step\n",
      "Наши метрики на нашей базовой модели:\n",
      "Время работы модели на всем батче 16.3301 сек.\n",
      "Время работы модели на одном сэмпле (AVG) 0.163 сек.\n",
      "Метрики качества:\n",
      "metric val_RMAP : 0.0466699\n"
     ]
    }
   ],
   "source": [
    "get_metric_score(base_loaded_model)"
   ],
   "metadata": {
    "collapsed": false
   }
  },
  {
   "cell_type": "code",
   "execution_count": null,
   "outputs": [],
   "source": [],
   "metadata": {
    "collapsed": false
   }
  }
 ]
}
